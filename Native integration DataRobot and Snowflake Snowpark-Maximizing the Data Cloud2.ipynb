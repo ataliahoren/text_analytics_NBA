{
 "cells": [
  {
   "cell_type": "markdown",
   "id": "642f0b89b14ad61032ab427a",
   "metadata": {
    "chart_settings": null,
    "dataframe_view_options": null,
    "datarobot": {
     "language": "markdown"
    },
    "disable_run": null,
    "hide_code": null,
    "hide_results": null
   },
   "source": [
    "## Native integration DataRobot and Snowflake Snowpark: Maximizing the data cloud\n",
    "\n",
    "Author: Atalia Horenshtien\n",
    "\n",
    "Version Date: April 6 2023"
   ]
  },
  {
   "cell_type": "markdown",
   "id": "642f0b89b14ad61032ab427b",
   "metadata": {
    "chart_settings": null,
    "dataframe_view_options": null,
    "datarobot": {
     "language": "markdown"
    },
    "disable_run": false,
    "hide_code": false,
    "hide_results": false,
    "name": "Overview"
   },
   "source": [
    "### Overview\n",
    "\n",
    "This notebook showcase the native integration between DataRobot and Snowflake teh data cloud via the DataRobot API and Snowflake, leveraging DataRobot notebooks and Snowflake Snowpark (Python + Java)\n",
    "\n",
    "#### DataRobot\n",
    "You will leverage DataRobot ML experimentation: DataRobot hosted notebooks, AutoML, model selection, insights and explainability, and ML productions: single shop for deployment and model monitoring.\n",
    "\n",
    "#### Snowflake\n",
    "You will leverage Snowflake for data storage and Snowpark for deployment, feature engineering, and model scoring. facilitate datasource access and utilize the Spark backbone to perform distributed scoring to support large-scale use cases.\n",
    "\n",
    "The dataset for this project is a 'Fraud Detection' use case and the notebook was created from a DataRobot Notebook - hosted notebooks, jupyter compatible, and supporting preloaded packages and Python and R syntax.\n",
    "DataRobot hosted Notebooks can also be used for code-snippets, versioning, and simple environment management for rapid AI experimentation, increasing your productivity."
   ]
  },
  {
   "cell_type": "markdown",
   "id": "642f0b89b14ad61032ab427c",
   "metadata": {
    "chart_settings": null,
    "dataframe_view_options": null,
    "datarobot": {
     "language": "markdown"
    },
    "disable_run": null,
    "hide_code": null,
    "hide_results": null
   },
   "source": [
    "### This notebook covers the following steps:\n",
    "\n",
    "1. Load data to Snowflake from an S3 file\n",
    "2. Acquiring a training dataset from a snowflake table using Snowpark for Python\n",
    "3. Feature engineering - analyzing data and creating new features using Snowpark for Python\n",
    "4. Building a new DataRobot project\n",
    "5. Analyzing and evaluating model performance and explainability using DataRobo AutoML\n",
    "6. Deploying the recommended model to Snowflake using DataRobot MLOps\n",
    "7. Scoring model via Snowpark for Java\n",
    "8. Monitor model using DataRobot MLOps"
   ]
  },
  {
   "cell_type": "markdown",
   "id": "642f0b89b14ad61032ab427d",
   "metadata": {
    "chart_settings": null,
    "dataframe_view_options": null,
    "datarobot": {
     "language": "markdown"
    },
    "disable_run": null,
    "hide_code": null,
    "hide_results": null
   },
   "source": [
    "### Before execution \n",
    "* Make sure the environment is Python 3.8\n",
    "* Configure the following environmental variables (users credentials to Snowflake):\n",
    "    'snowflake_user' - your snowflake's user name\n",
    "    'snowflake_password' - your snowflake's password\n",
    "    'snowflake_accoutnt' - your snowflake's account name\n",
    "\n",
    "Most of the project is executed by the notebook, creating a deployment and a monitoring job should be configured via the DataRobot GUI - supporting docs and steps are in the notebook along the way."
   ]
  },
  {
   "cell_type": "markdown",
   "id": "642f0b89b14ad61032ab427e",
   "metadata": {
    "chart_settings": null,
    "dataframe_view_options": null,
    "datarobot": {
     "language": "markdown"
    },
    "disable_run": false,
    "hide_code": false,
    "hide_results": false,
    "name": "Setup"
   },
   "source": [
    "#### Setup"
   ]
  },
  {
   "cell_type": "code",
   "execution_count": 1,
   "id": "642f0b89b14ad61032ab427f",
   "metadata": {
    "chart_settings": null,
    "collapsed": false,
    "dataframe_view_options": null,
    "datarobot": {
     "language": "python"
    },
    "disable_run": false,
    "hide_code": false,
    "hide_results": false,
    "jupyter": {
     "outputs_hidden": false
    },
    "name": "Install libraries "
   },
   "outputs": [
    {
     "data": {
      "text/plain": [
       "Collecting Flask-SQLAlchemy\r\n",
       "  Downloading https://files.pythonhosted.org/packages/cf/93/606d1967d6ef1c663ccccc739b361e7672ec057bf086ca7e4cd23eda18a9/Flask_SQLAlchemy-3.0.3-py3-none-any.whl\r\n"
      ]
     },
     "execution_count": 1,
     "metadata": {},
     "output_type": "execute_result"
    },
    {
     "data": {
      "text/plain": [
       "\r",
       "\u001b[K     |████████████████████████████████| 624kB 82.1MB/s \r\n",
       "\u001b[?25h"
      ]
     },
     "execution_count": 1,
     "metadata": {},
     "output_type": "execute_result"
    },
    {
     "data": {
      "text/plain": [
       "Installing collected packages: Werkzeug, Flask, greenlet, SQLAlchemy, Flask-SQLAlchemy\r\n"
      ]
     },
     "execution_count": 1,
     "metadata": {},
     "output_type": "execute_result"
    },
    {
     "data": {
      "text/plain": [
       "Successfully installed Flask-2.2.3 Flask-SQLAlchemy-3.0.3 SQLAlchemy-2.0.9 Werkzeug-2.2.3 greenlet-2.0.2\r\n"
      ]
     },
     "execution_count": 1,
     "metadata": {},
     "output_type": "execute_result"
    },
    {
     "data": {
      "text/plain": [
       "Collecting snowflake-sqlalchemy\r\n",
       "  Downloading https://files.pythonhosted.org/packages/5f/56/80f12b51606b13d8768ea7837e3d32140c80468584ab8b1ec23a29b9afd9/snowflake_sqlalchemy-1.4.7-py2.py3-none-any.whl\r\n"
      ]
     },
     "execution_count": 1,
     "metadata": {},
     "output_type": "execute_result"
    },
    {
     "data": {
      "text/plain": [
       "\r",
       "\u001b[K     |████████████████████████████████| 1.6MB 36.2MB/s \r\n",
       "\u001b[?25h"
      ]
     },
     "execution_count": 1,
     "metadata": {},
     "output_type": "execute_result"
    },
    {
     "data": {
      "text/plain": [
       "Requirement already satisfied, skipping upgrade: certifi>=2017.4.17 in /etc/system/kernel/.venv/lib/python3.8/site-packages (from snowflake-connector-python<4.0.0->snowflake-sqlalchemy) (2022.12.7)\r\n",
       "Requirement already satisfied, skipping upgrade: pyOpenSSL<24.0.0,>=16.2.0 in /etc/system/kernel/.venv/lib/python3.8/site-packages (from snowflake-connector-python<4.0.0->snowflake-sqlalchemy) (23.1.1)\r\n",
       "Requirement already satisfied, skipping upgrade: idna<4,>=2.5 in /etc/system/kernel/.venv/lib/python3.8/site-packages (from snowflake-connector-python<4.0.0->snowflake-sqlalchemy) (3.4)\r\n",
       "Requirement already satisfied, skipping upgrade: cryptography<41.0.0,>=3.1.0 in /etc/system/kernel/.venv/lib/python3.8/site-packages (from snowflake-connector-python<4.0.0->snowflake-sqlalchemy) (40.0.1)\r\n",
       "Requirement already satisfied, skipping upgrade: pytz in /etc/system/kernel/.venv/lib/python3.8/site-packages (from snowflake-connector-python<4.0.0->snowflake-sqlalchemy) (2023.3)\r\n",
       "Requirement already satisfied, skipping upgrade: pycparser in /etc/system/kernel/.venv/lib/python3.8/site-packages (from cffi<2.0.0,>=1.9->snowflake-connector-python<4.0.0->snowflake-sqlalchemy) (2.21)\r\n"
      ]
     },
     "execution_count": 1,
     "metadata": {},
     "output_type": "execute_result"
    },
    {
     "data": {
      "text/plain": [
       "Installing collected packages: sqlalchemy, snowflake-sqlalchemy\r\n",
       "  Found existing installation: SQLAlchemy 2.0.9\r\n"
      ]
     },
     "execution_count": 1,
     "metadata": {},
     "output_type": "execute_result"
    },
    {
     "data": {
      "text/plain": [
       "    Uninstalling SQLAlchemy-2.0.9:\r\n",
       "      Successfully uninstalled SQLAlchemy-2.0.9\r\n"
      ]
     },
     "execution_count": 1,
     "metadata": {},
     "output_type": "execute_result"
    },
    {
     "data": {
      "text/plain": [
       "Successfully installed snowflake-sqlalchemy-1.4.7 sqlalchemy-1.4.47\r\n"
      ]
     },
     "execution_count": 1,
     "metadata": {},
     "output_type": "execute_result"
    }
   ],
   "source": [
    "#if needed install the following:\n",
    "!pip install Flask-SQLAlchemy\n",
    "!pip install --upgrade snowflake-sqlalchemy"
   ]
  },
  {
   "cell_type": "code",
   "execution_count": null,
   "id": "642f0b89b14ad61032ab4280",
   "metadata": {
    "chart_settings": null,
    "collapsed": false,
    "dataframe_view_options": null,
    "datarobot": {
     "language": "python"
    },
    "disable_run": false,
    "hide_code": false,
    "hide_results": false,
    "jupyter": {
     "outputs_hidden": false
    },
    "name": "Load libraries"
   },
   "outputs": [],
   "source": [
    "\n",
    "import pandas as pd\n",
    "import matplotlib.pyplot as plt\n",
    "import datetime as datetime\n",
    "import seaborn as sns\n",
    "import json\n",
    "import os\n",
    "from pathlib import Path\n",
    "from sqlalchemy import create_engine\n",
    "\n",
    "from datarobot.enums import CHART_DATA_SOURCE, DATA_DRIFT_METRIC\n",
    "from datarobot.models.project import Project\n",
    "from datarobot.models.deployment import Deployment, FeatureDrift\n",
    "from datarobot.models.prediction_server import PredictionServer\n",
    "\n",
    "\n",
    "#from datarobot.models import FeatureDrift\n",
    "\n",
    "import snowflake.connector\n",
    "from snowflake.connector.pandas_tools import pd_writer\n",
    "from snowflake.snowpark.functions import udf, col, call_udf\n",
    "from snowflake.snowpark import Session\n",
    "\n",
    "from datetime import datetime\n",
    "\n",
    "from sqlalchemy.dialects import registry\n",
    "registry.register('snowflake', 'snowflake.sqlalchemy', 'dialect')\n",
    "from sqlalchemy import create_engine\n",
    "from sqlalchemy.orm import sessionmaker\n",
    "from snowflake.sqlalchemy import URL\n",
    "import urllib.parse\n"
   ]
  },
  {
   "cell_type": "code",
   "execution_count": null,
   "id": "642f0b89b14ad61032ab4281",
   "metadata": {
    "chart_settings": null,
    "collapsed": false,
    "dataframe_view_options": null,
    "datarobot": {
     "language": "python"
    },
    "disable_run": false,
    "hide_code": false,
    "hide_results": false,
    "jupyter": {
     "outputs_hidden": false
    },
    "name": "Define secret variables"
   },
   "outputs": [],
   "source": [
    "\n",
    "snowflake_password = os.environ['snowflake_password']\n",
    "snowflake_user = os.environ['snowflake_user']\n",
    "snowflake_account = os.environ['snowflake_account']\n"
   ]
  },
  {
   "cell_type": "code",
   "execution_count": null,
   "id": "642f0b89b14ad61032ab4282",
   "metadata": {
    "chart_settings": null,
    "collapsed": false,
    "dataframe_view_options": null,
    "datarobot": {
     "language": "python"
    },
    "disable_run": false,
    "hide_code": false,
    "hide_results": false,
    "jupyter": {
     "outputs_hidden": false
    },
    "name": "Define DB location details"
   },
   "outputs": [],
   "source": [
    "#these are the details, no need to change.\n",
    "\n",
    "database_name = \"SANDBOX\"\n",
    "schema_name = \"FINANCE\"\n",
    "warehouse_name = \"DEMO_WH\""
   ]
  },
  {
   "cell_type": "code",
   "execution_count": 5,
   "id": "642f0b89b14ad61032ab4283",
   "metadata": {
    "chart_settings": null,
    "collapsed": false,
    "dataframe_view_options": null,
    "datarobot": {
     "language": "python"
    },
    "disable_run": false,
    "hide_code": false,
    "hide_results": false,
    "jupyter": {
     "outputs_hidden": false
    },
    "name": "Load data to Snowflake "
   },
   "outputs": [
    {
     "data": {
      "text/plain": [
       "/tmp/ipykernel_25/4281520494.py:12: RemovedIn20Warning: Deprecated API features detected! These feature(s) are not compatible with SQLAlchemy 2.0. To prevent incompatible upgrades prior to updating applications, ensure requirements files are pinned to \"sqlalchemy<2.0\". Set environment variable SQLALCHEMY_WARN_20=1 to show all deprecation warnings.  Set environment variable SQLALCHEMY_SILENCE_UBER_WARNING=1 to silence this message. (Background on SQLAlchemy 2.0 at: https://sqlalche.me/e/b8d9)\n",
       "  engine.execute(\n"
      ]
     },
     "execution_count": 5,
     "metadata": {},
     "output_type": "execute_result"
    }
   ],
   "source": [
    "#load training data - 'Fraud Detection' from S3 to Snowflake \n",
    "safe_password_string = urllib.parse.quote_plus(snowflake_password)\n",
    "\n",
    "conn_string = (\n",
    "    f\"snowflake://{snowflake_user}:{safe_password_string}@{snowflake_account}/{database_name}\"\n",
    ")\n",
    "\n",
    "engine = create_engine(conn_string)\n",
    "\n",
    "# %%\n",
    "\n",
    "engine.execute(\n",
    "    '''\n",
    "    CREATE SCHEMA IF NOT EXISTS FINANCE;\n",
    "    \n",
    "    \n",
    "    ''')\n",
    "    \n",
    "renamer = {'date':'DATE_COLUMNS'}\n",
    "pd.read_csv(\"https://s3.amazonaws.com/datarobot_public_datasets/ai_accelerators/FRAUD_DETECTION_TRAINING.csv\").rename(columns=renamer).to_sql(name=\"fraud_detection_training\", schema=schema_name, con=engine, if_exists='replace' , method=pd_writer, index=False )\n",
    "\n",
    "\n",
    "\n",
    "\n",
    "# %\n"
   ]
  },
  {
   "cell_type": "code",
   "execution_count": null,
   "id": "642f0b89b14ad61032ab4284",
   "metadata": {
    "chart_settings": null,
    "collapsed": false,
    "dataframe_view_options": null,
    "datarobot": {
     "language": "python"
    },
    "disable_run": false,
    "hide_code": false,
    "hide_results": false,
    "jupyter": {
     "outputs_hidden": false
    },
    "name": "Connect to Snowflake"
   },
   "outputs": [],
   "source": [
    "CONNECTION_PARAMETERS = {\n",
    "   \"account\": snowflake_account,\n",
    "   \"user\": snowflake_user,\n",
    "   \"password\": snowflake_password,\n",
    "   \"database\": database_name,\n",
    "   \"schema\": schema_name,\n",
    "   \"warehouse\": warehouse_name\n",
    "}"
   ]
  },
  {
   "cell_type": "markdown",
   "id": "642f0b89b14ad61032ab4285",
   "metadata": {
    "chart_settings": null,
    "dataframe_view_options": null,
    "datarobot": {
     "language": "markdown"
    },
    "disable_run": null,
    "hide_code": null,
    "hide_results": null
   },
   "source": [
    "#### Data Preparation "
   ]
  },
  {
   "cell_type": "markdown",
   "id": "642f0b89b14ad61032ab4286",
   "metadata": {
    "chart_settings": null,
    "dataframe_view_options": null,
    "datarobot": {
     "language": "markdown"
    },
    "disable_run": null,
    "hide_code": null,
    "hide_results": null
   },
   "source": [
    "I’m going to use Snowpark for feature engineering. \n",
    "Snowpark is a developer framework where I can work on a familiar syntax, in this example Python. Snowpark pushes down processing to Snowflake to run consistently in a highly secure and elastic engine."
   ]
  },
  {
   "cell_type": "code",
   "execution_count": null,
   "id": "642f0b89b14ad61032ab4287",
   "metadata": {
    "chart_settings": null,
    "collapsed": false,
    "dataframe_view_options": null,
    "datarobot": {
     "language": "python"
    },
    "disable_run": false,
    "hide_code": false,
    "hide_results": false,
    "jupyter": {
     "outputs_hidden": false
    },
    "name": "Create snowpark session object"
   },
   "outputs": [],
   "source": [
    "#Here I am creating the ‘session’ object that represents Snowpark and a dataframe that references the data in Snowflake.\n",
    "\n",
    "session = Session.builder.configs(CONNECTION_PARAMETERS).create()"
   ]
  },
  {
   "cell_type": "code",
   "execution_count": null,
   "id": "642f0b89b14ad61032ab4288",
   "metadata": {
    "chart_settings": null,
    "collapsed": false,
    "dataframe_view_options": null,
    "datarobot": {
     "language": "python"
    },
    "disable_run": false,
    "hide_code": false,
    "hide_results": false,
    "jupyter": {
     "outputs_hidden": false
    },
    "name": "Create a DF with training data"
   },
   "outputs": [],
   "source": [
    "df_train = session.table(\"FRAUD_DETECTION_TRAINING\")"
   ]
  },
  {
   "cell_type": "code",
   "execution_count": 9,
   "id": "642f0b89b14ad61032ab4289",
   "metadata": {
    "chart_settings": null,
    "collapsed": false,
    "dataframe_view_options": null,
    "datarobot": {
     "language": "python"
    },
    "disable_run": false,
    "hide_code": false,
    "hide_results": false,
    "jupyter": {
     "outputs_hidden": false
    },
    "name": "Show the data in the DF - will bring data to memory"
   },
   "outputs": [
    {
     "data": {
      "text/plain": [
       "---------------------------------------------------------------------------------------------------------------------------------------------------------------------------------------------------------------------------------------------------------------------------------------------------------------------------------------------------------------------------------------------------------------------------------------------------------------------------------------------------------------------------------------------------\n",
       "|\"ISFRAUD\"  |\"TRNX_ID\"   |\"CITY\"         |\"SHIPPING_ZIPCODE\"  |\"SHIPPING_STATE\"  |\"IS_OVERNIGHT_SHIPPING\"  |\"PAYMENT_NETWORK\"  |\"PAYMENT_TYPE\"  |\"AVG_TRNX_AMOUNT_PER_ITEM\"  |\"TOTAL_TRNX_AMOUNT\"  |\"PROMO_CODE\"  |\"GUEST_CHECKOUT\"  |\"ACCOUNT_CHECKOUT\"  |\"IS_NIGHT_ORDER\"  |\"EMAIL_ON_FILE\"  |\"SESSION_LENGTH_IN_MINS\"  |\"COOKIE_IS_SEEN_BEFORE\"  |\"IS_BROWSER_LANGUAGE_TRANSLATED\"  |\"l_6KhI_IP_ADDRESS\"    |\"CSRNOTES\"                                          |\"r_torw_IP_ADDRESS\"    |\"EMAIL_DOMAIN\"  |\"NUMBER_SESSION_FROM_IP_PAST_24HR\"  |\n",
       "---------------------------------------------------------------------------------------------------------------------------------------------------------------------------------------------------------------------------------------------------------------------------------------------------------------------------------------------------------------------------------------------------------------------------------------------------------------------------------------------------------------------------------------------------\n",
       "|1          |00E73ZUAPA  |New York City  |10004               |NY                |False                    |Discover           |Other           |190.2419433                 |380.48               |NULL          |True              |0                   |False             |False            |13                        |False                    |False                             |201.223.3.16           |                                                    |201.223.3.16           |gmail.com       |0.0                                 |\n",
       "|0          |00EECSWKSP  |Tucson         |85702               |AZ                |False                    |JCB                |Credit          |80.39365324                 |241.18               |D1IQF         |True              |0                   |False             |False            |15                        |False                    |False                             |2601:500:c380:9700::   |                                                    |2601:500:c380:9700::   |gmail.com       |0.0                                 |\n",
       "|0          |00FGRKWYL4  |New York City  |10004               |NY                |False                    |Mastercard         |Credit          |38.31439706                 |114.94               |NULL          |True              |0                   |False             |False            |14                        |True                     |False                             |2620:59:c400::         |                                                    |2620:59:c400::         |gmail.com       |0.0                                 |\n",
       "|0          |00IWUYR82V  |Greenville     |75402               |TX                |False                    |Discover           |Debit           |58.10305844                 |174.31               |NULL          |True              |0                   |False             |True             |10                        |False                    |False                             |172.243.82.100         |                                                    |172.243.82.100         |outlook.com     |0.0                                 |\n",
       "|0          |00JAVY6847  |Cedar Rapids   |52406               |IA                |False                    |Mastercard         |Credit          |94.13928438                 |282.42               |JX2GO         |True              |0                   |False             |True             |10                        |False                    |False                             |113.73.30.88           |returned customer, customer forgot password dup...  |113.73.30.88           |aol.com         |1.0                                 |\n",
       "|0          |00JTRTYA4S  |Des Moines     |50307               |IA                |False                    |Amex               |Credit          |49.88134143                 |199.53               |NULL          |True              |0                   |False             |False            |15                        |False                    |False                             |2409:4011:d:c000::     |                                                    |2409:4011:d:c000::     |gmail.com       |0.0                                 |\n",
       "|0          |00RR895EU3  |Austin         |78701               |TX                |False                    |Amex               |Credit          |61.30119923                 |122.6                |NULL          |True              |0                   |False             |True             |13                        |False                    |False                             |172.242.112.120        |                                                    |172.242.112.120        |yahoo.com       |1.0                                 |\n",
       "|0          |00XW1DBME0  |Houston        |77052               |TX                |True                     |Visa               |Debit           |42.6811705                  |42.68                |NULL          |True              |0                   |False             |False            |14                        |False                    |False                             |60.209.118.210         |                                                    |60.209.118.210         |yahoo.com       |2.0                                 |\n",
       "|0          |010X6XINH0  |Tucson         |85702               |AZ                |False                    |Mastercard         |Credit          |178.3459813                 |535.04               |NULL          |True              |0                   |False             |False            |16                        |False                    |False                             |78.186.92.198          |in-bound call, duplicated order, verified custo...  |78.186.92.198          |hotmail.com     |0.0                                 |\n",
       "|0          |0129O18JA2  |Middletown     |7748                |NJ                |False                    |Visa               |Credit          |85.96465867                 |171.93               |NULL          |True              |0                   |False             |False            |14                        |False                    |False                             |2001:1890:126c:9700::  |                                                    |2001:1890:126c:9700::  |gmail.com       |0.0                                 |\n",
       "---------------------------------------------------------------------------------------------------------------------------------------------------------------------------------------------------------------------------------------------------------------------------------------------------------------------------------------------------------------------------------------------------------------------------------------------------------------------------------------------------------------------------------------------------\n",
       "\n"
      ]
     },
     "execution_count": 9,
     "metadata": {},
     "output_type": "execute_result"
    }
   ],
   "source": [
    "df_train.show()"
   ]
  },
  {
   "cell_type": "code",
   "execution_count": null,
   "id": "642f0b89b14ad61032ab428a",
   "metadata": {
    "chart_settings": null,
    "collapsed": false,
    "dataframe_view_options": null,
    "datarobot": {
     "language": "python"
    },
    "disable_run": false,
    "hide_code": false,
    "hide_results": false,
    "jupyter": {
     "outputs_hidden": false
    },
    "name": "Define a UDF with Snowflake - Create new feature "
   },
   "outputs": [],
   "source": [
    "# Snowpark - Create an instance of UserDefinedFunction using the @udf decorator\n",
    "@udf\n",
    "\n",
    "#define the function: args: WHOLE_WEIGHT, HEIGHT\n",
    "def is_long_session (session_length_in_mins: float) -> bool:\n",
    "    if session_length_in_mins > 20:\n",
    "        return 1\n",
    "    else: \n",
    "        return 0\n",
    "    "
   ]
  },
  {
   "cell_type": "code",
   "execution_count": null,
   "id": "642f0b89b14ad61032ab428b",
   "metadata": {
    "chart_settings": null,
    "collapsed": false,
    "dataframe_view_options": null,
    "datarobot": {
     "language": "python"
    },
    "disable_run": false,
    "hide_code": false,
    "hide_results": false,
    "jupyter": {
     "outputs_hidden": false
    },
    "name": "Use snowpark to compute new feature"
   },
   "outputs": [],
   "source": [
    "# Snowpark call UDFs on a dataframe, calculation in snowflake\n",
    "udf_df_train = df_train.select(col('*'), is_long_session(col(\"SESSION_LENGTH_IN_MINS\")).alias(\"LONG_SESSION\"))"
   ]
  },
  {
   "cell_type": "code",
   "execution_count": null,
   "id": "642f0b89b14ad61032ab428c",
   "metadata": {
    "chart_settings": null,
    "collapsed": false,
    "dataframe_view_options": null,
    "datarobot": {
     "language": "python"
    },
    "disable_run": false,
    "hide_code": false,
    "hide_results": false,
    "jupyter": {
     "outputs_hidden": false
    },
    "name": "Override training table"
   },
   "outputs": [],
   "source": [
    "udf_df_train.write.mode(\"overwrite\").save_as_table(\"FRAUD_DETECTION_TRAINING\")"
   ]
  },
  {
   "cell_type": "code",
   "execution_count": null,
   "id": "642f0b89b14ad61032ab428d",
   "metadata": {
    "chart_settings": null,
    "collapsed": false,
    "dataframe_view_options": null,
    "datarobot": {
     "language": "python"
    },
    "disable_run": false,
    "hide_code": false,
    "hide_results": false,
    "jupyter": {
     "outputs_hidden": false
    },
    "name": "Convert DF to pandas DF"
   },
   "outputs": [],
   "source": [
    "#Snowpark supports Pandas\n",
    "df_train_pd = df_train.toPandas()"
   ]
  },
  {
   "cell_type": "code",
   "execution_count": 14,
   "id": "642f0b89b14ad61032ab428e",
   "metadata": {
    "chart_settings": null,
    "collapsed": false,
    "dataframe_view_options": null,
    "datarobot": {
     "language": "python"
    },
    "disable_run": false,
    "hide_code": false,
    "hide_results": false,
    "jupyter": {
     "outputs_hidden": false
    },
    "name": "Plot target distribution"
   },
   "outputs": [
    {
     "data": {
      "text/plain": [
       "<AxesSubplot: xlabel='ISFRAUD', ylabel='count'>"
      ]
     },
     "execution_count": 14,
     "metadata": {},
     "output_type": "execute_result"
    },
    {
     "data": {
      "image/png": "[encoded data removed]",
      "text/plain": [
       "<Figure size 640x480 with 1 Axes>"
      ]
     },
     "execution_count": 14,
     "metadata": {},
     "output_type": "execute_result"
    }
   ],
   "source": [
    "sns.countplot(data = df_train_pd\n",
    "            ,x = 'ISFRAUD'\n",
    "            )"
   ]
  },
  {
   "cell_type": "markdown",
   "id": "642f0b89b14ad61032ab428f",
   "metadata": {
    "chart_settings": null,
    "dataframe_view_options": null,
    "datarobot": {
     "language": "markdown"
    },
    "disable_run": null,
    "hide_code": null,
    "hide_results": null
   },
   "source": [
    "#### Model Training "
   ]
  },
  {
   "cell_type": "markdown",
   "id": "642f0b89b14ad61032ab4290",
   "metadata": {
    "chart_settings": null,
    "dataframe_view_options": null,
    "datarobot": {
     "language": "markdown"
    },
    "disable_run": false,
    "hide_code": false,
    "hide_results": false,
    "name": "ML Experiment"
   },
   "source": [
    "Here we leverage DataRobot’s AutoML capabilities, including explainability and compliance documentation to speed up the model’s results and regulatory compliance."
   ]
  },
  {
   "cell_type": "code",
   "execution_count": null,
   "id": "642f0b89b14ad61032ab4291",
   "metadata": {
    "chart_settings": null,
    "collapsed": false,
    "dataframe_view_options": null,
    "datarobot": {
     "language": "python"
    },
    "disable_run": false,
    "hide_code": false,
    "hide_results": false,
    "jupyter": {
     "outputs_hidden": false
    },
    "name": "Get project"
   },
   "outputs": [],
   "source": [
    "# Optional - If you already run autopilot before - get the project by replacing the ID\n",
    "#project = Project.get('63853765cfc79e4555fa2537')"
   ]
  },
  {
   "cell_type": "code",
   "execution_count": null,
   "id": "642f0b89b14ad61032ab4292",
   "metadata": {
    "chart_settings": null,
    "collapsed": false,
    "dataframe_view_options": null,
    "datarobot": {
     "language": "python"
    },
    "disable_run": false,
    "hide_code": false,
    "hide_results": false,
    "jupyter": {
     "outputs_hidden": false
    },
    "name": "Create a project"
   },
   "outputs": [],
   "source": [
    "#defining project name and current date\n",
    "now = datetime.now().strftime('%Y-%m-%dT%H:%M')\n",
    "project = Project.create(df_train_pd,\n",
    "                            project_name='Fraud_detection_{}'.format(now))"
   ]
  },
  {
   "cell_type": "code",
   "execution_count": null,
   "id": "642f0b89b14ad61032ab4293",
   "metadata": {
    "chart_settings": null,
    "collapsed": false,
    "dataframe_view_options": null,
    "datarobot": {
     "language": "python"
    },
    "disable_run": false,
    "hide_code": false,
    "hide_results": false,
    "jupyter": {
     "outputs_hidden": false
    },
    "name": "AutoML - quick start"
   },
   "outputs": [],
   "source": [
    "#setting the target variable and ready to go!\n",
    "project.analyze_and_model(target = 'ISFRAUD',                                     # setting project target\n",
    "                       mode = 'quick',                                        # setting up project run mode, leaving in auto\n",
    "                       worker_count = -1,                                    # assigning worker count, -1 will use all available\n",
    "                       max_wait=24*60*60                                     # time series projects can take a little more time to get through EDA2 than normal AutoML projects\n",
    "                      )"
   ]
  },
  {
   "cell_type": "code",
   "execution_count": null,
   "id": "642f0b89b14ad61032ab4294",
   "metadata": {
    "chart_settings": null,
    "collapsed": false,
    "dataframe_view_options": null,
    "datarobot": {
     "language": "python"
    },
    "disable_run": false,
    "hide_code": false,
    "hide_results": false,
    "jupyter": {
     "outputs_hidden": false
    },
    "name": "wait for for training process to be completed"
   },
   "outputs": [],
   "source": [
    "#This (optional) will block execution of the notebook until the full autopilot process has completed. This can take several minutes or hours, depending on the autopilot mode selected, the size of the dataset, and the type of problem we're trying to solve.\n",
    "\n",
    "project.wait_for_autopilot()"
   ]
  },
  {
   "cell_type": "code",
   "execution_count": 16,
   "id": "642f0b89b14ad61032ab4295",
   "metadata": {
    "chart_settings": null,
    "collapsed": false,
    "dataframe_view_options": null,
    "datarobot": {
     "language": "python"
    },
    "disable_run": false,
    "hide_code": false,
    "hide_results": false,
    "jupyter": {
     "outputs_hidden": false
    },
    "name": "Get top models"
   },
   "outputs": [
    {
     "data": {
      "text/plain": [
       "[Model('Light Gradient Boosted Trees Classifier with Early Stopping'),\n",
       " Model('Light Gradient Boosted Trees Classifier with Early Stopping'),\n",
       " Model('AVG Blender'),\n",
       " Model('Light Gradient Boosted Trees Classifier with Early Stopping'),\n",
       " Model('eXtreme Gradient Boosted Trees Classifier with Early Stopping'),\n",
       " Model('Light Gradient Boosted Trees Classifier with Early Stopping with Bias Mitigation Reweighing using CITY (excluded as predictor variable)'),\n",
       " Model('eXtreme Gradient Boosted Trees Classifier with Early Stopping'),\n",
       " Model('Elastic-Net Classifier (L2 / Binomial Deviance)'),\n",
       " Model('Light Gradient Boosted Trees Classifier with Early Stopping'),\n",
       " Model('Light Gradient Boosted Trees Classifier with Early Stopping')]"
      ]
     },
     "execution_count": 16,
     "metadata": {},
     "output_type": "execute_result"
    }
   ],
   "source": [
    "#This output a list of all the models trained in the project, sorted by the selected validation metric.\n",
    "\n",
    "project.get_models()[:10]"
   ]
  },
  {
   "cell_type": "code",
   "execution_count": null,
   "id": "642f0b89b14ad61032ab4296",
   "metadata": {
    "chart_settings": null,
    "collapsed": false,
    "dataframe_view_options": null,
    "datarobot": {
     "language": "python"
    },
    "disable_run": false,
    "hide_code": false,
    "hide_results": false,
    "jupyter": {
     "outputs_hidden": false
    },
    "name": "Get best performing model"
   },
   "outputs": [],
   "source": [
    "# Get the most accurate model based on the project's metric - DataRobot provides a recommendation for an accurate and performant model at the end of training process\n",
    "most_accurate_model = project.get_top_model()"
   ]
  },
  {
   "cell_type": "code",
   "execution_count": 18,
   "id": "642f0b89b14ad61032ab4297",
   "metadata": {
    "chart_settings": null,
    "collapsed": false,
    "dataframe_view_options": null,
    "datarobot": {
     "language": "python"
    },
    "disable_run": false,
    "hide_code": false,
    "hide_results": false,
    "jupyter": {
     "outputs_hidden": false
    },
    "name": "Lift Chart"
   },
   "outputs": [
    {
     "data": {
      "image/png": "[encoded data removed]",
      "text/plain": [
       "<Figure size 640x480 with 1 Axes>"
      ]
     },
     "execution_count": 18,
     "metadata": {},
     "output_type": "execute_result"
    }
   ],
   "source": [
    "# Evaluate the model using a lift chart\n",
    "plot = most_accurate_model.get_lift_chart('crossValidation')\n",
    "df = pd.DataFrame.from_dict(plot.bins)\n",
    "\n",
    "# create data\n",
    "x = df.index\n",
    "y = df['actual']\n",
    "y2 = df['predicted']\n",
    "  \n",
    "# plot lines\n",
    "plt.plot(x, y, label = \"actuals\")\n",
    "plt.plot(x, y2, label = \"predicted\")\n",
    "plt.legend()\n",
    "plt.title('lift chart')\n",
    "plt.show()"
   ]
  },
  {
   "cell_type": "code",
   "execution_count": 19,
   "id": "642f0b89b14ad61032ab4298",
   "metadata": {
    "chart_settings": null,
    "collapsed": false,
    "dataframe_view_options": null,
    "datarobot": {
     "language": "python"
    },
    "disable_run": false,
    "hide_code": false,
    "hide_results": false,
    "jupyter": {
     "outputs_hidden": false
    },
    "name": "ROC Curve"
   },
   "outputs": [
    {
     "data": {
      "text/plain": [
       "(0.0, 1.0)"
      ]
     },
     "execution_count": 19,
     "metadata": {},
     "output_type": "execute_result"
    },
    {
     "data": {
      "image/png": "[encoded data removed]",
      "text/plain": [
       "<Figure size 800x800 with 1 Axes>"
      ]
     },
     "execution_count": 19,
     "metadata": {},
     "output_type": "execute_result"
    }
   ],
   "source": [
    "# Evaluate the model using ROC Curve\n",
    "\n",
    "# Get the ROC curve\n",
    "roc = most_accurate_model.get_roc_curve(source=CHART_DATA_SOURCE.VALIDATION)\n",
    "\n",
    "# Save the result into a Pandas dataframe\n",
    "roc_df = pd.DataFrame(roc.roc_points)\n",
    "roc_df.head()\n",
    "\n",
    "# Set chart colors\n",
    "dr_roc_green = \"#03c75f\"\n",
    "white = \"#ffffff\"\n",
    "dr_purple = \"#65147D\"\n",
    "dr_dense_green = \"#018f4f\"\n",
    "dr_dark_blue = \"#08233F\"\n",
    "\n",
    "# Create chart\n",
    "fig = plt.figure(figsize=(8, 8))\n",
    "axes = fig.add_subplot(1, 1, 1, facecolor=dr_dark_blue)\n",
    "plt.scatter(roc_df.false_positive_rate, roc_df.true_positive_rate, color=dr_roc_green)\n",
    "plt.plot(roc_df.false_positive_rate, roc_df.true_positive_rate, color=dr_roc_green)\n",
    "plt.plot([0, 1], [0, 1], color=white, alpha=0.25)\n",
    "\n",
    "# Format chart\n",
    "plt.title(\"ROC curve\")\n",
    "plt.xlabel(\"False Positive Rate (Fallout)\")\n",
    "plt.xlim([0, 1])\n",
    "plt.ylabel(\"True Positive Rate (Sensitivity)\")\n",
    "plt.ylim([0, 1])\n"
   ]
  },
  {
   "cell_type": "code",
   "execution_count": 20,
   "id": "642f0b89b14ad61032ab4299",
   "metadata": {
    "chart_settings": null,
    "collapsed": false,
    "dataframe_view_options": null,
    "datarobot": {
     "language": "python"
    },
    "disable_run": false,
    "hide_code": false,
    "hide_results": false,
    "jupyter": {
     "outputs_hidden": false
    },
    "name": "Feature Impact"
   },
   "outputs": [
    {
     "data": {
      "text/plain": [
       "<AxesSubplot: xlabel='featureName', ylabel='impactNormalized'>"
      ]
     },
     "execution_count": 20,
     "metadata": {},
     "output_type": "execute_result"
    },
    {
     "data": {
      "image/png": "[encoded data removed]",
      "text/plain": [
       "<Figure size 1200x500 with 1 Axes>"
      ]
     },
     "execution_count": 20,
     "metadata": {},
     "output_type": "execute_result"
    }
   ],
   "source": [
    "# Getting insights on which feature driving model's outcome\n",
    "\n",
    "# Get Feature Impact\n",
    "feature_impact = most_accurate_model.get_or_request_feature_impact()\n",
    "\n",
    "# Save feature impact in pandas dataframe\n",
    "fi_df = pd.DataFrame(feature_impact)\n",
    "\n",
    "# Plot the top 5 most impactful features\n",
    "fig, ax = plt.subplots(figsize=(12, 5))\n",
    "sns.barplot(x=\"featureName\", y=\"impactNormalized\", data=fi_df[0:5], color=\"g\")\n"
   ]
  },
  {
   "cell_type": "markdown",
   "id": "642f0b89b14ad61032ab429a",
   "metadata": {
    "chart_settings": null,
    "dataframe_view_options": null,
    "datarobot": {
     "language": "markdown"
    },
    "disable_run": false,
    "hide_code": false,
    "hide_results": false,
    "name": "Deployment"
   },
   "source": [
    "#### Model Deploymnet"
   ]
  },
  {
   "cell_type": "markdown",
   "id": "642f0b89b14ad61032ab429b",
   "metadata": {
    "chart_settings": null,
    "dataframe_view_options": null,
    "datarobot": {
     "language": "markdown"
    },
    "disable_run": false,
    "hide_code": false,
    "hide_results": false,
    "name": "Deploy a model to Snowflake"
   },
   "source": [
    "To deploy to snowflake you need to do it through the DataRobot GUI:\n",
    "Create a snowflake prediction environment and deployment : https://docs.datarobot.com/en/docs/mlops/mlops-preview/pp-snowflake-sc-deploy-replace.html\n",
    "\n",
    "\n"
   ]
  },
  {
   "cell_type": "code",
   "execution_count": 21,
   "id": "642f0b89b14ad61032ab429d",
   "metadata": {
    "chart_settings": null,
    "collapsed": false,
    "dataframe_view_options": null,
    "datarobot": {
     "language": "python"
    },
    "disable_run": false,
    "hide_code": false,
    "hide_results": false,
    "jupyter": {
     "outputs_hidden": false
    },
    "name": "Get the deployment"
   },
   "outputs": [
    {
     "data": {
      "text/plain": [
       "Deployment(ISFRAUD Predictions)"
      ]
     },
     "execution_count": 21,
     "metadata": {},
     "output_type": "execute_result"
    }
   ],
   "source": [
    "#get the deployed model - change ID to your deployment\n",
    "deployment = Deployment.get('6413a07ea0a9ee22d203464b')\n",
    "deployment"
   ]
  },
  {
   "cell_type": "code",
   "execution_count": 22,
   "id": "642f0b89b14ad61032ab429f",
   "metadata": {
    "chart_settings": null,
    "collapsed": false,
    "dataframe_view_options": null,
    "datarobot": {
     "language": "python"
    },
    "disable_run": false,
    "hide_code": false,
    "hide_results": false,
    "jupyter": {
     "outputs_hidden": false
    },
    "name": "Create scoring data"
   },
   "outputs": [
    {
     "data": {
      "text/plain": [
       "[Row(status='Table FRAUD_DETECTION_SCORING successfully created.')]"
      ]
     },
     "execution_count": 22,
     "metadata": {},
     "output_type": "execute_result"
    }
   ],
   "source": [
    "#Let's create the scoring data\n",
    "#an example for subset data, for convenience \n",
    "query = \" create or replace table FRAUD_DETECTION_SCORING as \" +\\\n",
    "        \"  select * from FRAUD_DETECTION_TRAINING limit 10 \"\n",
    "        \n",
    "session.sql(query).collect()"
   ]
  },
  {
   "cell_type": "markdown",
   "id": "642f0b89b14ad61032ab42a0",
   "metadata": {
    "chart_settings": null,
    "dataframe_view_options": null,
    "datarobot": {
     "language": "markdown"
    },
    "disable_run": false,
    "hide_code": false,
    "hide_results": false,
    "name": "Get the JAVA function to score the data"
   },
   "source": [
    "In order to score the data in Snowflake we will leverage Snowpark for JAVA.\n",
    "\n",
    "Go to the created deployment > 'Predictions' tab > from section 2. copy the signature of the function and replace it in the next section. \n",
    "\n",
    "Example:\n",
    "query = \" SELECT *, scoring_code_udf_schema.replace_function_name_here(OBJECT_CONSTRUCT_KEEP_NULL(*)) \" +\\\n",
    "        \" FROM FRAUD_DETECTION_SCORING \""
   ]
  },
  {
   "cell_type": "code",
   "execution_count": 23,
   "id": "642f0b89b14ad61032ab42a1",
   "metadata": {
    "chart_settings": null,
    "collapsed": false,
    "dataframe_view_options": null,
    "datarobot": {
     "language": "python"
    },
    "disable_run": false,
    "hide_code": false,
    "hide_results": false,
    "jupyter": {
     "outputs_hidden": false
    },
    "name": "Score scoring table in Snowflake"
   },
   "outputs": [
    {
     "data": {
      "text/plain": [
       "[Row(status='Table FRAUD_DETECTION_SCORING successfully created.')]"
      ]
     },
     "execution_count": 23,
     "metadata": {},
     "output_type": "execute_result"
    }
   ],
   "source": [
    "#score new data\n",
    "\n",
    "query = \" CREATE OR REPLACE TABLE FRAUD_DETECTION_SCORING as\" +\\\n",
    "        \" SELECT *, datarobot_deployment_642adf008b22ed8d5de483ba(OBJECT_CONSTRUCT_KEEP_NULL(*)) as model_score FROM FRAUD_DETECTION_SCORING;\"\n",
    "\n",
    "        \n",
    "session.sql(query).collect()"
   ]
  },
  {
   "cell_type": "code",
   "execution_count": 24,
   "id": "642f0b89b14ad61032ab42a2",
   "metadata": {
    "chart_settings": null,
    "collapsed": false,
    "dataframe_view_options": null,
    "datarobot": {
     "language": "python"
    },
    "disable_run": false,
    "hide_code": false,
    "hide_results": false,
    "jupyter": {
     "outputs_hidden": false
    },
    "name": "Store scoring results"
   },
   "outputs": [
    {
     "data": {
      "text/plain": [
       "[Row(status='Table FRAUD_DETECTION_SCORING successfully created.')]"
      ]
     },
     "execution_count": 24,
     "metadata": {},
     "output_type": "execute_result"
    }
   ],
   "source": [
    "#store results and modify columns names\n",
    "\n",
    "query = \" CREATE OR REPLACE TABLE FRAUD_DETECTION_SCORING as select *, model_score:\\\"0\\\"::float false_fraud, model_score:\\\"1\\\"::float true_fraud  from FRAUD_DETECTION_SCORING; \"\n",
    "\n",
    "session.sql(query).collect()\n",
    "\n",
    "  "
   ]
  },
  {
   "cell_type": "code",
   "execution_count": 25,
   "id": "642f0b89b14ad61032ab42a3",
   "metadata": {
    "chart_settings": null,
    "collapsed": false,
    "dataframe_view_options": null,
    "datarobot": {
     "language": "python"
    },
    "disable_run": false,
    "hide_code": false,
    "hide_results": false,
    "jupyter": {
     "outputs_hidden": false
    },
    "name": "Present results in a DF"
   },
   "outputs": [
    {
     "data": {
      "application/vnd.dataframe": {
       "columns": [
        {
         "name": "_dr_df_index",
         "type": "integer"
        },
        {
         "name": "ISFRAUD",
         "type": "string"
        },
        {
         "name": "TRNX_ID",
         "type": "string"
        },
        {
         "name": "CITY",
         "type": "string"
        },
        {
         "name": "SHIPPING_ZIPCODE",
         "type": "string"
        },
        {
         "name": "SHIPPING_STATE",
         "type": "string"
        },
        {
         "name": "IS_OVERNIGHT_SHIPPING",
         "type": "boolean"
        },
        {
         "name": "PAYMENT_NETWORK",
         "type": "string"
        },
        {
         "name": "PAYMENT_TYPE",
         "type": "string"
        },
        {
         "name": "AVG_TRNX_AMOUNT_PER_ITEM",
         "type": "number"
        },
        {
         "name": "TOTAL_TRNX_AMOUNT",
         "type": "number"
        },
        {
         "name": "PROMO_CODE",
         "type": "string"
        },
        {
         "name": "GUEST_CHECKOUT",
         "type": "boolean"
        },
        {
         "name": "ACCOUNT_CHECKOUT",
         "type": "string"
        },
        {
         "name": "IS_NIGHT_ORDER",
         "type": "boolean"
        },
        {
         "name": "EMAIL_ON_FILE",
         "type": "boolean"
        },
        {
         "name": "SESSION_LENGTH_IN_MINS",
         "type": "string"
        },
        {
         "name": "COOKIE_IS_SEEN_BEFORE",
         "type": "boolean"
        },
        {
         "name": "IS_BROWSER_LANGUAGE_TRANSLATED",
         "type": "boolean"
        },
        {
         "name": "l_6KhI_IP_ADDRESS",
         "type": "string"
        },
        {
         "name": "CSRNOTES",
         "type": "string"
        },
        {
         "name": "r_torw_IP_ADDRESS",
         "type": "string"
        },
        {
         "name": "EMAIL_DOMAIN",
         "type": "string"
        },
        {
         "name": "NUMBER_SESSION_FROM_IP_PAST_24HR",
         "type": "number"
        },
        {
         "name": "LONG_SESSION",
         "type": "boolean"
        },
        {
         "name": "MODEL_SCORE",
         "type": "string"
        },
        {
         "name": "FALSE_FRAUD",
         "type": "number"
        },
        {
         "name": "TRUE_FRAUD",
         "type": "number"
        }
       ],
       "count": 10,
       "data": [
        {
         "ACCOUNT_CHECKOUT": "0",
         "AVG_TRNX_AMOUNT_PER_ITEM": 127.0685407,
         "CITY": "Bellevue",
         "COOKIE_IS_SEEN_BEFORE": false,
         "CSRNOTES": " ",
         "EMAIL_DOMAIN": "outlook.com",
         "EMAIL_ON_FILE": true,
         "FALSE_FRAUD": 0.9646977252,
         "GUEST_CHECKOUT": true,
         "ISFRAUD": "0",
         "IS_BROWSER_LANGUAGE_TRANSLATED": false,
         "IS_NIGHT_ORDER": false,
         "IS_OVERNIGHT_SHIPPING": false,
         "LONG_SESSION": false,
         "MODEL_SCORE": "{\n  \"0\": \"0.9646977252232929\",\n  \"1\": \"0.03530227477670706\"\n}",
         "NUMBER_SESSION_FROM_IP_PAST_24HR": 0,
         "PAYMENT_NETWORK": "Discover",
         "PAYMENT_TYPE": "Debit",
         "PROMO_CODE": null,
         "SESSION_LENGTH_IN_MINS": "12",
         "SHIPPING_STATE": "WA",
         "SHIPPING_ZIPCODE": "98006",
         "TOTAL_TRNX_AMOUNT": 127.07,
         "TRNX_ID": "0A2NFUEAXK",
         "TRUE_FRAUD": 0.0353022748,
         "_dr_df_index": 0,
         "l_6KhI_IP_ADDRESS": "39.65.126.156",
         "r_torw_IP_ADDRESS": "39.65.126.156"
        },
        {
         "ACCOUNT_CHECKOUT": "0",
         "AVG_TRNX_AMOUNT_PER_ITEM": 21.23304437,
         "CITY": "Lafayette",
         "COOKIE_IS_SEEN_BEFORE": false,
         "CSRNOTES": " ",
         "EMAIL_DOMAIN": "gmail.com",
         "EMAIL_ON_FILE": false,
         "FALSE_FRAUD": 0.9629009539,
         "GUEST_CHECKOUT": true,
         "ISFRAUD": "0",
         "IS_BROWSER_LANGUAGE_TRANSLATED": false,
         "IS_NIGHT_ORDER": false,
         "IS_OVERNIGHT_SHIPPING": false,
         "LONG_SESSION": false,
         "MODEL_SCORE": "{\n  \"0\": \"0.9629009539287663\",\n  \"1\": \"0.03709904607123373\"\n}",
         "NUMBER_SESSION_FROM_IP_PAST_24HR": 0,
         "PAYMENT_NETWORK": "Discover",
         "PAYMENT_TYPE": "Credit",
         "PROMO_CODE": null,
         "SESSION_LENGTH_IN_MINS": "11",
         "SHIPPING_STATE": "OR",
         "SHIPPING_ZIPCODE": "97127",
         "TOTAL_TRNX_AMOUNT": 63.7,
         "TRNX_ID": "06SZBVOBLR",
         "TRUE_FRAUD": 0.0370990461,
         "_dr_df_index": 1,
         "l_6KhI_IP_ADDRESS": "2001:1890:1340:c200::",
         "r_torw_IP_ADDRESS": "2001:1890:1340:c200::"
        },
        {
         "ACCOUNT_CHECKOUT": "0",
         "AVG_TRNX_AMOUNT_PER_ITEM": 61.30119923,
         "CITY": "Austin",
         "COOKIE_IS_SEEN_BEFORE": false,
         "CSRNOTES": " ",
         "EMAIL_DOMAIN": "yahoo.com",
         "EMAIL_ON_FILE": true,
         "FALSE_FRAUD": 0.9603620958,
         "GUEST_CHECKOUT": true,
         "ISFRAUD": "0",
         "IS_BROWSER_LANGUAGE_TRANSLATED": false,
         "IS_NIGHT_ORDER": false,
         "IS_OVERNIGHT_SHIPPING": false,
         "LONG_SESSION": false,
         "MODEL_SCORE": "{\n  \"0\": \"0.9603620958118375\",\n  \"1\": \"0.03963790418816253\"\n}",
         "NUMBER_SESSION_FROM_IP_PAST_24HR": 1,
         "PAYMENT_NETWORK": "Amex",
         "PAYMENT_TYPE": "Credit",
         "PROMO_CODE": null,
         "SESSION_LENGTH_IN_MINS": "13",
         "SHIPPING_STATE": "TX",
         "SHIPPING_ZIPCODE": "78701",
         "TOTAL_TRNX_AMOUNT": 122.6,
         "TRNX_ID": "00RR895EU3",
         "TRUE_FRAUD": 0.0396379042,
         "_dr_df_index": 2,
         "l_6KhI_IP_ADDRESS": "172.242.112.120",
         "r_torw_IP_ADDRESS": "172.242.112.120"
        },
        {
         "ACCOUNT_CHECKOUT": "0",
         "AVG_TRNX_AMOUNT_PER_ITEM": 189.0886674,
         "CITY": "Pasadena",
         "COOKIE_IS_SEEN_BEFORE": false,
         "CSRNOTES": " ",
         "EMAIL_DOMAIN": "yopmail.com",
         "EMAIL_ON_FILE": false,
         "FALSE_FRAUD": 0.8561235578,
         "GUEST_CHECKOUT": true,
         "ISFRAUD": "0",
         "IS_BROWSER_LANGUAGE_TRANSLATED": true,
         "IS_NIGHT_ORDER": false,
         "IS_OVERNIGHT_SHIPPING": false,
         "LONG_SESSION": false,
         "MODEL_SCORE": "{\n  \"0\": \"0.8561235577541858\",\n  \"1\": \"0.1438764422458142\"\n}",
         "NUMBER_SESSION_FROM_IP_PAST_24HR": 0,
         "PAYMENT_NETWORK": "Diners Club",
         "PAYMENT_TYPE": "Debit",
         "PROMO_CODE": null,
         "SESSION_LENGTH_IN_MINS": "18",
         "SHIPPING_STATE": "CA",
         "SHIPPING_ZIPCODE": "91102",
         "TOTAL_TRNX_AMOUNT": 945.44,
         "TRNX_ID": "0B0O8C6XZK",
         "TRUE_FRAUD": 0.1438764422,
         "_dr_df_index": 3,
         "l_6KhI_IP_ADDRESS": "66.214.150.236",
         "r_torw_IP_ADDRESS": "66.214.150.236"
        },
        {
         "ACCOUNT_CHECKOUT": "0",
         "AVG_TRNX_AMOUNT_PER_ITEM": 85.52129048,
         "CITY": "Ocala",
         "COOKIE_IS_SEEN_BEFORE": false,
         "CSRNOTES": "duplicated order, returned customer, order still being processed, unknown phone",
         "EMAIL_DOMAIN": "gmail.com",
         "EMAIL_ON_FILE": false,
         "FALSE_FRAUD": 0.9185046187,
         "GUEST_CHECKOUT": true,
         "ISFRAUD": "0",
         "IS_BROWSER_LANGUAGE_TRANSLATED": false,
         "IS_NIGHT_ORDER": false,
         "IS_OVERNIGHT_SHIPPING": false,
         "LONG_SESSION": false,
         "MODEL_SCORE": "{\n  \"0\": \"0.918504618741391\",\n  \"1\": \"0.081495381258609\"\n}",
         "NUMBER_SESSION_FROM_IP_PAST_24HR": 0,
         "PAYMENT_NETWORK": "Visa",
         "PAYMENT_TYPE": "Credit",
         "PROMO_CODE": null,
         "SESSION_LENGTH_IN_MINS": "11",
         "SHIPPING_STATE": "FL",
         "SHIPPING_ZIPCODE": "34477",
         "TOTAL_TRNX_AMOUNT": 85.52,
         "TRNX_ID": "01U36CAPW2",
         "TRUE_FRAUD": 0.0814953813,
         "_dr_df_index": 4,
         "l_6KhI_IP_ADDRESS": "71.214.86.145",
         "r_torw_IP_ADDRESS": "71.214.86.145"
        },
        {
         "ACCOUNT_CHECKOUT": "0",
         "AVG_TRNX_AMOUNT_PER_ITEM": 138.4086268,
         "CITY": "Birmingham",
         "COOKIE_IS_SEEN_BEFORE": false,
         "CSRNOTES": " ",
         "EMAIL_DOMAIN": "xmaily.com",
         "EMAIL_ON_FILE": false,
         "FALSE_FRAUD": 0.9161744015,
         "GUEST_CHECKOUT": true,
         "ISFRAUD": "0",
         "IS_BROWSER_LANGUAGE_TRANSLATED": false,
         "IS_NIGHT_ORDER": false,
         "IS_OVERNIGHT_SHIPPING": false,
         "LONG_SESSION": false,
         "MODEL_SCORE": "{\n  \"0\": \"0.91617440147768\",\n  \"1\": \"0.08382559852231995\"\n}",
         "NUMBER_SESSION_FROM_IP_PAST_24HR": 0,
         "PAYMENT_NETWORK": "Other",
         "PAYMENT_TYPE": "Credit",
         "PROMO_CODE": null,
         "SESSION_LENGTH_IN_MINS": "11",
         "SHIPPING_STATE": "AL",
         "SHIPPING_ZIPCODE": "35201",
         "TOTAL_TRNX_AMOUNT": 692.04,
         "TRNX_ID": "0BV263UCKP",
         "TRUE_FRAUD": 0.0838255985,
         "_dr_df_index": 5,
         "l_6KhI_IP_ADDRESS": "75.231.114.132",
         "r_torw_IP_ADDRESS": "75.231.114.132"
        },
        {
         "ACCOUNT_CHECKOUT": "0",
         "AVG_TRNX_AMOUNT_PER_ITEM": 50.42419495,
         "CITY": "Scranton",
         "COOKIE_IS_SEEN_BEFORE": false,
         "CSRNOTES": " ",
         "EMAIL_DOMAIN": "gmail.com",
         "EMAIL_ON_FILE": true,
         "FALSE_FRAUD": 0.9851326273,
         "GUEST_CHECKOUT": true,
         "ISFRAUD": "0",
         "IS_BROWSER_LANGUAGE_TRANSLATED": false,
         "IS_NIGHT_ORDER": false,
         "IS_OVERNIGHT_SHIPPING": false,
         "LONG_SESSION": false,
         "MODEL_SCORE": "{\n  \"0\": \"0.9851326272864072\",\n  \"1\": \"0.01486737271359288\"\n}",
         "NUMBER_SESSION_FROM_IP_PAST_24HR": 0,
         "PAYMENT_NETWORK": "Mastercard",
         "PAYMENT_TYPE": "Credit",
         "PROMO_CODE": null,
         "SESSION_LENGTH_IN_MINS": "17",
         "SHIPPING_STATE": "PA",
         "SHIPPING_ZIPCODE": "18502",
         "TOTAL_TRNX_AMOUNT": 100.85,
         "TRNX_ID": "08VKKHGKB3",
         "TRUE_FRAUD": 0.0148673727,
         "_dr_df_index": 6,
         "l_6KhI_IP_ADDRESS": "174.59.4.112",
         "r_torw_IP_ADDRESS": "174.59.4.112"
        },
        {
         "ACCOUNT_CHECKOUT": "0",
         "AVG_TRNX_AMOUNT_PER_ITEM": 76.88553295,
         "CITY": "Collinsville",
         "COOKIE_IS_SEEN_BEFORE": false,
         "CSRNOTES": " ",
         "EMAIL_DOMAIN": "gmail.com",
         "EMAIL_ON_FILE": false,
         "FALSE_FRAUD": 0.9248787803,
         "GUEST_CHECKOUT": true,
         "ISFRAUD": "0",
         "IS_BROWSER_LANGUAGE_TRANSLATED": false,
         "IS_NIGHT_ORDER": false,
         "IS_OVERNIGHT_SHIPPING": false,
         "LONG_SESSION": false,
         "MODEL_SCORE": "{\n  \"0\": \"0.9248787803484843\",\n  \"1\": \"0.0751212196515157\"\n}",
         "NUMBER_SESSION_FROM_IP_PAST_24HR": 0,
         "PAYMENT_NETWORK": "Discover",
         "PAYMENT_TYPE": "Credit",
         "PROMO_CODE": null,
         "SESSION_LENGTH_IN_MINS": "12",
         "SHIPPING_STATE": "IL",
         "SHIPPING_ZIPCODE": "62234",
         "TOTAL_TRNX_AMOUNT": 230.66,
         "TRNX_ID": "032DNL6Z4Q",
         "TRUE_FRAUD": 0.0751212197,
         "_dr_df_index": 7,
         "l_6KhI_IP_ADDRESS": "68.75.121.108",
         "r_torw_IP_ADDRESS": "68.75.121.108"
        },
        {
         "ACCOUNT_CHECKOUT": "0",
         "AVG_TRNX_AMOUNT_PER_ITEM": 21.65225498,
         "CITY": "Manhattan",
         "COOKIE_IS_SEEN_BEFORE": false,
         "CSRNOTES": " ",
         "EMAIL_DOMAIN": "gmail.com",
         "EMAIL_ON_FILE": true,
         "FALSE_FRAUD": 0.9942063285,
         "GUEST_CHECKOUT": true,
         "ISFRAUD": "0",
         "IS_BROWSER_LANGUAGE_TRANSLATED": false,
         "IS_NIGHT_ORDER": false,
         "IS_OVERNIGHT_SHIPPING": false,
         "LONG_SESSION": false,
         "MODEL_SCORE": "{\n  \"0\": \"0.994206328508122\",\n  \"1\": \"0.005793671491878026\"\n}",
         "NUMBER_SESSION_FROM_IP_PAST_24HR": 1,
         "PAYMENT_NETWORK": "JCB",
         "PAYMENT_TYPE": "Debit",
         "PROMO_CODE": null,
         "SESSION_LENGTH_IN_MINS": "13",
         "SHIPPING_STATE": "NY",
         "SHIPPING_ZIPCODE": "10024",
         "TOTAL_TRNX_AMOUNT": 43.3,
         "TRNX_ID": "053KCN1AHF",
         "TRUE_FRAUD": 0.0057936715,
         "_dr_df_index": 8,
         "l_6KhI_IP_ADDRESS": "63.112.187.128",
         "r_torw_IP_ADDRESS": "63.112.187.128"
        },
        {
         "ACCOUNT_CHECKOUT": "0",
         "AVG_TRNX_AMOUNT_PER_ITEM": 175.038967,
         "CITY": "Atlantic City",
         "COOKIE_IS_SEEN_BEFORE": false,
         "CSRNOTES": "service request, verified customer,   IP Blacklisted",
         "EMAIL_DOMAIN": "yopmail.com",
         "EMAIL_ON_FILE": false,
         "FALSE_FRAUD": 0.311376241,
         "GUEST_CHECKOUT": true,
         "ISFRAUD": "1",
         "IS_BROWSER_LANGUAGE_TRANSLATED": false,
         "IS_NIGHT_ORDER": false,
         "IS_OVERNIGHT_SHIPPING": true,
         "LONG_SESSION": false,
         "MODEL_SCORE": "{\n  \"0\": \"0.31137624101555716\",\n  \"1\": \"0.6886237589844428\"\n}",
         "NUMBER_SESSION_FROM_IP_PAST_24HR": 0,
         "PAYMENT_NETWORK": "Mastercard",
         "PAYMENT_TYPE": "Credit",
         "PROMO_CODE": null,
         "SESSION_LENGTH_IN_MINS": "13",
         "SHIPPING_STATE": "NJ",
         "SHIPPING_ZIPCODE": "8404",
         "TOTAL_TRNX_AMOUNT": 525.12,
         "TRNX_ID": "04FHTCOJNI",
         "TRUE_FRAUD": 0.688623759,
         "_dr_df_index": 9,
         "l_6KhI_IP_ADDRESS": "68.85.145.39",
         "r_torw_IP_ADDRESS": "68.85.145.39"
        }
       ],
       "error": [],
       "indexKey": "_dr_df_index",
       "limit": 10,
       "offset": 0,
       "referenceId": 139886346686416,
       "sortedBy": "",
       "totalCount": 10
      },
      "text/html": [
       "<div>\n",
       "<style scoped>\n",
       "    .dataframe tbody tr th:only-of-type {\n",
       "        vertical-align: middle;\n",
       "    }\n",
       "\n",
       "    .dataframe tbody tr th {\n",
       "        vertical-align: top;\n",
       "    }\n",
       "\n",
       "    .dataframe thead th {\n",
       "        text-align: right;\n",
       "    }\n",
       "</style>\n",
       "<table border=\"1\" class=\"dataframe\">\n",
       "  <thead>\n",
       "    <tr style=\"text-align: right;\">\n",
       "      <th></th>\n",
       "      <th>ISFRAUD</th>\n",
       "      <th>TRNX_ID</th>\n",
       "      <th>CITY</th>\n",
       "      <th>SHIPPING_ZIPCODE</th>\n",
       "      <th>SHIPPING_STATE</th>\n",
       "      <th>IS_OVERNIGHT_SHIPPING</th>\n",
       "      <th>PAYMENT_NETWORK</th>\n",
       "      <th>PAYMENT_TYPE</th>\n",
       "      <th>AVG_TRNX_AMOUNT_PER_ITEM</th>\n",
       "      <th>TOTAL_TRNX_AMOUNT</th>\n",
       "      <th>...</th>\n",
       "      <th>IS_BROWSER_LANGUAGE_TRANSLATED</th>\n",
       "      <th>l_6KhI_IP_ADDRESS</th>\n",
       "      <th>CSRNOTES</th>\n",
       "      <th>r_torw_IP_ADDRESS</th>\n",
       "      <th>EMAIL_DOMAIN</th>\n",
       "      <th>NUMBER_SESSION_FROM_IP_PAST_24HR</th>\n",
       "      <th>LONG_SESSION</th>\n",
       "      <th>MODEL_SCORE</th>\n",
       "      <th>FALSE_FRAUD</th>\n",
       "      <th>TRUE_FRAUD</th>\n",
       "    </tr>\n",
       "  </thead>\n",
       "  <tbody>\n",
       "    <tr>\n",
       "      <th>0</th>\n",
       "      <td>0</td>\n",
       "      <td>0A2NFUEAXK</td>\n",
       "      <td>Bellevue</td>\n",
       "      <td>98006</td>\n",
       "      <td>WA</td>\n",
       "      <td>False</td>\n",
       "      <td>Discover</td>\n",
       "      <td>Debit</td>\n",
       "      <td>127.068541</td>\n",
       "      <td>127.07</td>\n",
       "      <td>...</td>\n",
       "      <td>False</td>\n",
       "      <td>39.65.126.156</td>\n",
       "      <td></td>\n",
       "      <td>39.65.126.156</td>\n",
       "      <td>outlook.com</td>\n",
       "      <td>0.0</td>\n",
       "      <td>False</td>\n",
       "      <td>{\\n  \"0\": \"0.9646977252232929\",\\n  \"1\": \"0.035...</td>\n",
       "      <td>0.964698</td>\n",
       "      <td>0.035302</td>\n",
       "    </tr>\n",
       "    <tr>\n",
       "      <th>1</th>\n",
       "      <td>0</td>\n",
       "      <td>06SZBVOBLR</td>\n",
       "      <td>Lafayette</td>\n",
       "      <td>97127</td>\n",
       "      <td>OR</td>\n",
       "      <td>False</td>\n",
       "      <td>Discover</td>\n",
       "      <td>Credit</td>\n",
       "      <td>21.233044</td>\n",
       "      <td>63.70</td>\n",
       "      <td>...</td>\n",
       "      <td>False</td>\n",
       "      <td>2001:1890:1340:c200::</td>\n",
       "      <td></td>\n",
       "      <td>2001:1890:1340:c200::</td>\n",
       "      <td>gmail.com</td>\n",
       "      <td>0.0</td>\n",
       "      <td>False</td>\n",
       "      <td>{\\n  \"0\": \"0.9629009539287663\",\\n  \"1\": \"0.037...</td>\n",
       "      <td>0.962901</td>\n",
       "      <td>0.037099</td>\n",
       "    </tr>\n",
       "    <tr>\n",
       "      <th>2</th>\n",
       "      <td>0</td>\n",
       "      <td>00RR895EU3</td>\n",
       "      <td>Austin</td>\n",
       "      <td>78701</td>\n",
       "      <td>TX</td>\n",
       "      <td>False</td>\n",
       "      <td>Amex</td>\n",
       "      <td>Credit</td>\n",
       "      <td>61.301199</td>\n",
       "      <td>122.60</td>\n",
       "      <td>...</td>\n",
       "      <td>False</td>\n",
       "      <td>172.242.112.120</td>\n",
       "      <td></td>\n",
       "      <td>172.242.112.120</td>\n",
       "      <td>yahoo.com</td>\n",
       "      <td>1.0</td>\n",
       "      <td>False</td>\n",
       "      <td>{\\n  \"0\": \"0.9603620958118375\",\\n  \"1\": \"0.039...</td>\n",
       "      <td>0.960362</td>\n",
       "      <td>0.039638</td>\n",
       "    </tr>\n",
       "    <tr>\n",
       "      <th>3</th>\n",
       "      <td>0</td>\n",
       "      <td>0B0O8C6XZK</td>\n",
       "      <td>Pasadena</td>\n",
       "      <td>91102</td>\n",
       "      <td>CA</td>\n",
       "      <td>False</td>\n",
       "      <td>Diners Club</td>\n",
       "      <td>Debit</td>\n",
       "      <td>189.088667</td>\n",
       "      <td>945.44</td>\n",
       "      <td>...</td>\n",
       "      <td>True</td>\n",
       "      <td>66.214.150.236</td>\n",
       "      <td></td>\n",
       "      <td>66.214.150.236</td>\n",
       "      <td>yopmail.com</td>\n",
       "      <td>0.0</td>\n",
       "      <td>False</td>\n",
       "      <td>{\\n  \"0\": \"0.8561235577541858\",\\n  \"1\": \"0.143...</td>\n",
       "      <td>0.856124</td>\n",
       "      <td>0.143876</td>\n",
       "    </tr>\n",
       "    <tr>\n",
       "      <th>4</th>\n",
       "      <td>0</td>\n",
       "      <td>01U36CAPW2</td>\n",
       "      <td>Ocala</td>\n",
       "      <td>34477</td>\n",
       "      <td>FL</td>\n",
       "      <td>False</td>\n",
       "      <td>Visa</td>\n",
       "      <td>Credit</td>\n",
       "      <td>85.521290</td>\n",
       "      <td>85.52</td>\n",
       "      <td>...</td>\n",
       "      <td>False</td>\n",
       "      <td>71.214.86.145</td>\n",
       "      <td>duplicated order, returned customer, order sti...</td>\n",
       "      <td>71.214.86.145</td>\n",
       "      <td>gmail.com</td>\n",
       "      <td>0.0</td>\n",
       "      <td>False</td>\n",
       "      <td>{\\n  \"0\": \"0.918504618741391\",\\n  \"1\": \"0.0814...</td>\n",
       "      <td>0.918505</td>\n",
       "      <td>0.081495</td>\n",
       "    </tr>\n",
       "    <tr>\n",
       "      <th>5</th>\n",
       "      <td>0</td>\n",
       "      <td>0BV263UCKP</td>\n",
       "      <td>Birmingham</td>\n",
       "      <td>35201</td>\n",
       "      <td>AL</td>\n",
       "      <td>False</td>\n",
       "      <td>Other</td>\n",
       "      <td>Credit</td>\n",
       "      <td>138.408627</td>\n",
       "      <td>692.04</td>\n",
       "      <td>...</td>\n",
       "      <td>False</td>\n",
       "      <td>75.231.114.132</td>\n",
       "      <td></td>\n",
       "      <td>75.231.114.132</td>\n",
       "      <td>xmaily.com</td>\n",
       "      <td>0.0</td>\n",
       "      <td>False</td>\n",
       "      <td>{\\n  \"0\": \"0.91617440147768\",\\n  \"1\": \"0.08382...</td>\n",
       "      <td>0.916174</td>\n",
       "      <td>0.083826</td>\n",
       "    </tr>\n",
       "    <tr>\n",
       "      <th>6</th>\n",
       "      <td>0</td>\n",
       "      <td>08VKKHGKB3</td>\n",
       "      <td>Scranton</td>\n",
       "      <td>18502</td>\n",
       "      <td>PA</td>\n",
       "      <td>False</td>\n",
       "      <td>Mastercard</td>\n",
       "      <td>Credit</td>\n",
       "      <td>50.424195</td>\n",
       "      <td>100.85</td>\n",
       "      <td>...</td>\n",
       "      <td>False</td>\n",
       "      <td>174.59.4.112</td>\n",
       "      <td></td>\n",
       "      <td>174.59.4.112</td>\n",
       "      <td>gmail.com</td>\n",
       "      <td>0.0</td>\n",
       "      <td>False</td>\n",
       "      <td>{\\n  \"0\": \"0.9851326272864072\",\\n  \"1\": \"0.014...</td>\n",
       "      <td>0.985133</td>\n",
       "      <td>0.014867</td>\n",
       "    </tr>\n",
       "    <tr>\n",
       "      <th>7</th>\n",
       "      <td>0</td>\n",
       "      <td>032DNL6Z4Q</td>\n",
       "      <td>Collinsville</td>\n",
       "      <td>62234</td>\n",
       "      <td>IL</td>\n",
       "      <td>False</td>\n",
       "      <td>Discover</td>\n",
       "      <td>Credit</td>\n",
       "      <td>76.885533</td>\n",
       "      <td>230.66</td>\n",
       "      <td>...</td>\n",
       "      <td>False</td>\n",
       "      <td>68.75.121.108</td>\n",
       "      <td></td>\n",
       "      <td>68.75.121.108</td>\n",
       "      <td>gmail.com</td>\n",
       "      <td>0.0</td>\n",
       "      <td>False</td>\n",
       "      <td>{\\n  \"0\": \"0.9248787803484843\",\\n  \"1\": \"0.075...</td>\n",
       "      <td>0.924879</td>\n",
       "      <td>0.075121</td>\n",
       "    </tr>\n",
       "    <tr>\n",
       "      <th>8</th>\n",
       "      <td>0</td>\n",
       "      <td>053KCN1AHF</td>\n",
       "      <td>Manhattan</td>\n",
       "      <td>10024</td>\n",
       "      <td>NY</td>\n",
       "      <td>False</td>\n",
       "      <td>JCB</td>\n",
       "      <td>Debit</td>\n",
       "      <td>21.652255</td>\n",
       "      <td>43.30</td>\n",
       "      <td>...</td>\n",
       "      <td>False</td>\n",
       "      <td>63.112.187.128</td>\n",
       "      <td></td>\n",
       "      <td>63.112.187.128</td>\n",
       "      <td>gmail.com</td>\n",
       "      <td>1.0</td>\n",
       "      <td>False</td>\n",
       "      <td>{\\n  \"0\": \"0.994206328508122\",\\n  \"1\": \"0.0057...</td>\n",
       "      <td>0.994206</td>\n",
       "      <td>0.005794</td>\n",
       "    </tr>\n",
       "    <tr>\n",
       "      <th>9</th>\n",
       "      <td>1</td>\n",
       "      <td>04FHTCOJNI</td>\n",
       "      <td>Atlantic City</td>\n",
       "      <td>8404</td>\n",
       "      <td>NJ</td>\n",
       "      <td>True</td>\n",
       "      <td>Mastercard</td>\n",
       "      <td>Credit</td>\n",
       "      <td>175.038967</td>\n",
       "      <td>525.12</td>\n",
       "      <td>...</td>\n",
       "      <td>False</td>\n",
       "      <td>68.85.145.39</td>\n",
       "      <td>service request, verified customer,   IP Black...</td>\n",
       "      <td>68.85.145.39</td>\n",
       "      <td>yopmail.com</td>\n",
       "      <td>0.0</td>\n",
       "      <td>False</td>\n",
       "      <td>{\\n  \"0\": \"0.31137624101555716\",\\n  \"1\": \"0.68...</td>\n",
       "      <td>0.311376</td>\n",
       "      <td>0.688624</td>\n",
       "    </tr>\n",
       "  </tbody>\n",
       "</table>\n",
       "<p>10 rows × 27 columns</p>\n",
       "</div>"
      ],
      "text/plain": [
       "   ISFRAUD     TRNX_ID           CITY  SHIPPING_ZIPCODE SHIPPING_STATE  \\\n",
       "0        0  0A2NFUEAXK       Bellevue             98006             WA   \n",
       "1        0  06SZBVOBLR      Lafayette             97127             OR   \n",
       "2        0  00RR895EU3         Austin             78701             TX   \n",
       "3        0  0B0O8C6XZK       Pasadena             91102             CA   \n",
       "4        0  01U36CAPW2          Ocala             34477             FL   \n",
       "5        0  0BV263UCKP     Birmingham             35201             AL   \n",
       "6        0  08VKKHGKB3       Scranton             18502             PA   \n",
       "7        0  032DNL6Z4Q   Collinsville             62234             IL   \n",
       "8        0  053KCN1AHF      Manhattan             10024             NY   \n",
       "9        1  04FHTCOJNI  Atlantic City              8404             NJ   \n",
       "\n",
       "   IS_OVERNIGHT_SHIPPING PAYMENT_NETWORK PAYMENT_TYPE  \\\n",
       "0                  False        Discover        Debit   \n",
       "1                  False        Discover       Credit   \n",
       "2                  False            Amex       Credit   \n",
       "3                  False     Diners Club        Debit   \n",
       "4                  False            Visa       Credit   \n",
       "5                  False           Other       Credit   \n",
       "6                  False      Mastercard       Credit   \n",
       "7                  False        Discover       Credit   \n",
       "8                  False             JCB        Debit   \n",
       "9                   True      Mastercard       Credit   \n",
       "\n",
       "   AVG_TRNX_AMOUNT_PER_ITEM  TOTAL_TRNX_AMOUNT  ...  \\\n",
       "0                127.068541             127.07  ...   \n",
       "1                 21.233044              63.70  ...   \n",
       "2                 61.301199             122.60  ...   \n",
       "3                189.088667             945.44  ...   \n",
       "4                 85.521290              85.52  ...   \n",
       "5                138.408627             692.04  ...   \n",
       "6                 50.424195             100.85  ...   \n",
       "7                 76.885533             230.66  ...   \n",
       "8                 21.652255              43.30  ...   \n",
       "9                175.038967             525.12  ...   \n",
       "\n",
       "  IS_BROWSER_LANGUAGE_TRANSLATED      l_6KhI_IP_ADDRESS  \\\n",
       "0                          False          39.65.126.156   \n",
       "1                          False  2001:1890:1340:c200::   \n",
       "2                          False        172.242.112.120   \n",
       "3                           True         66.214.150.236   \n",
       "4                          False          71.214.86.145   \n",
       "5                          False         75.231.114.132   \n",
       "6                          False           174.59.4.112   \n",
       "7                          False          68.75.121.108   \n",
       "8                          False         63.112.187.128   \n",
       "9                          False           68.85.145.39   \n",
       "\n",
       "                                            CSRNOTES      r_torw_IP_ADDRESS  \\\n",
       "0                                                             39.65.126.156   \n",
       "1                                                     2001:1890:1340:c200::   \n",
       "2                                                           172.242.112.120   \n",
       "3                                                            66.214.150.236   \n",
       "4  duplicated order, returned customer, order sti...          71.214.86.145   \n",
       "5                                                            75.231.114.132   \n",
       "6                                                              174.59.4.112   \n",
       "7                                                             68.75.121.108   \n",
       "8                                                            63.112.187.128   \n",
       "9  service request, verified customer,   IP Black...           68.85.145.39   \n",
       "\n",
       "   EMAIL_DOMAIN  NUMBER_SESSION_FROM_IP_PAST_24HR  LONG_SESSION  \\\n",
       "0   outlook.com                               0.0         False   \n",
       "1     gmail.com                               0.0         False   \n",
       "2     yahoo.com                               1.0         False   \n",
       "3   yopmail.com                               0.0         False   \n",
       "4     gmail.com                               0.0         False   \n",
       "5    xmaily.com                               0.0         False   \n",
       "6     gmail.com                               0.0         False   \n",
       "7     gmail.com                               0.0         False   \n",
       "8     gmail.com                               1.0         False   \n",
       "9   yopmail.com                               0.0         False   \n",
       "\n",
       "                                         MODEL_SCORE FALSE_FRAUD TRUE_FRAUD  \n",
       "0  {\\n  \"0\": \"0.9646977252232929\",\\n  \"1\": \"0.035...    0.964698   0.035302  \n",
       "1  {\\n  \"0\": \"0.9629009539287663\",\\n  \"1\": \"0.037...    0.962901   0.037099  \n",
       "2  {\\n  \"0\": \"0.9603620958118375\",\\n  \"1\": \"0.039...    0.960362   0.039638  \n",
       "3  {\\n  \"0\": \"0.8561235577541858\",\\n  \"1\": \"0.143...    0.856124   0.143876  \n",
       "4  {\\n  \"0\": \"0.918504618741391\",\\n  \"1\": \"0.0814...    0.918505   0.081495  \n",
       "5  {\\n  \"0\": \"0.91617440147768\",\\n  \"1\": \"0.08382...    0.916174   0.083826  \n",
       "6  {\\n  \"0\": \"0.9851326272864072\",\\n  \"1\": \"0.014...    0.985133   0.014867  \n",
       "7  {\\n  \"0\": \"0.9248787803484843\",\\n  \"1\": \"0.075...    0.924879   0.075121  \n",
       "8  {\\n  \"0\": \"0.994206328508122\",\\n  \"1\": \"0.0057...    0.994206   0.005794  \n",
       "9  {\\n  \"0\": \"0.31137624101555716\",\\n  \"1\": \"0.68...    0.311376   0.688624  \n",
       "\n",
       "[10 rows x 27 columns]"
      ]
     },
     "execution_count": 25,
     "metadata": {},
     "output_type": "execute_result"
    }
   ],
   "source": [
    "# Convert session object to a DF\n",
    "\n",
    "df_scored = session.table(\"FRAUD_DETECTION_SCORING\")\n",
    "df_scored_pd = df_scored.toPandas()\n",
    "df_scored_pd"
   ]
  },
  {
   "cell_type": "markdown",
   "id": "642f0b89b14ad61032ab42a4",
   "metadata": {
    "chart_settings": null,
    "dataframe_view_options": null,
    "datarobot": {
     "language": "markdown"
    },
    "disable_run": false,
    "hide_code": false,
    "hide_results": false,
    "name": "Predictions results"
   },
   "source": [
    "We can see the predictions in the last two columns"
   ]
  },
  {
   "cell_type": "markdown",
   "id": "642f0b89b14ad61032ab42a5",
   "metadata": {
    "chart_settings": null,
    "dataframe_view_options": null,
    "datarobot": {
     "language": "markdown"
    },
    "disable_run": null,
    "hide_code": null,
    "hide_results": null
   },
   "source": [
    "#### Model Monitoring"
   ]
  },
  {
   "cell_type": "markdown",
   "id": "642f0b89b14ad61032ab42a6",
   "metadata": {
    "chart_settings": null,
    "dataframe_view_options": null,
    "datarobot": {
     "language": "markdown"
    },
    "disable_run": false,
    "hide_code": false,
    "hide_results": false,
    "name": "Defining a monitoring job"
   },
   "source": [
    "To make sure business decisions are aligned with external and internal factors, we need to monitor the model performance and understand if the mnodel needs to be replaced or retrained. To define a monitoring job, please check this doc: https://docs.datarobot.com/en/docs/mlops/mlops-preview/pp-monitoring-jobs.html\n",
    "\n",
    "Once the monitoring job has bee executed we can see data drift and accuracy either in the UI, either using the API.\n"
   ]
  },
  {
   "cell_type": "code",
   "execution_count": 26,
   "id": "642f0b89b14ad61032ab42a7",
   "metadata": {
    "chart_settings": null,
    "collapsed": false,
    "dataframe_view_options": null,
    "datarobot": {
     "language": "python"
    },
    "disable_run": false,
    "hide_code": false,
    "hide_results": false,
    "jupyter": {
     "outputs_hidden": false
    },
    "name": "Data Drift"
   },
   "outputs": [
    {
     "data": {
      "text/plain": [
       "8.162262704563577"
      ]
     },
     "execution_count": 26,
     "metadata": {},
     "output_type": "execute_result"
    }
   ],
   "source": [
    "#get the target drift\n",
    "\n",
    "target_drift = deployment.get_target_drift(\n",
    "    start_time=datetime(2023, 4, 1, hour=15),\n",
    "    end_time=datetime(2023, 4, 4, hour=15)\n",
    ")\n",
    "target_drift.drift_score"
   ]
  },
  {
   "cell_type": "markdown",
   "id": "642f0cf9038f8a378e444bfc",
   "metadata": {
    "chart_settings": null,
    "dataframe_view_options": null,
    "datarobot": {
     "language": "markdown"
    },
    "disable_run": false,
    "hide_code": false,
    "hide_results": false,
    "name": "Conclusion and Next steps"
   },
   "source": [
    "### Conclusion and Next Steps\n",
    "DataRobot and Snowflake together offer an end-to-end, enterprise-grade AI experience and expertise to enterprises by reducing complexity and productionizing ML models at scale, unlocking business value.\n",
    "\n",
    "Visit the website to learn more https://www.datarobot.com/partners/technology-partners/snowflake/"
   ]
  }
 ],
 "metadata": {
  "kernelspec": {
   "display_name": "Python 3",
   "language": "python",
   "name": "python3"
  },
  "language_info": {
   "codemirror_mode": {
    "name": "ipython",
    "version": 3
   },
   "file_extension": ".py",
   "mimetype": "text/x-python",
   "name": "python",
   "nbconvert_exporter": "python",
   "pygments_lexer": "ipython3",
   "version": "3.8.8"
  }
 },
 "nbformat": 4,
 "nbformat_minor": 5
}
